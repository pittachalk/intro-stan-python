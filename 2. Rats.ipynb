{
 "cells": [
  {
   "cell_type": "code",
   "execution_count": null,
   "metadata": {},
   "outputs": [],
   "source": [
    "import numpy as np\n",
    "import pystan\n",
    "import pandas as pd\n",
    "import arviz as az\n",
    "import matplotlib.pyplot as plt\n",
    "%matplotlib inline"
   ]
  },
  {
   "cell_type": "markdown",
   "metadata": {},
   "source": [
    "# Exercise 2: Rats\n",
    "\n",
    "Thirty rats have their weight measured once per week shortly after being born, on days 8, 15, 22, 29, and 36. For this dataset, we are going to consider a prediction task: \n",
    "\n",
    "**Given the measurements on days 8, 15, and 22, can we predict the rat weight on days 29 and 36?**\n",
    "\n",
    "As usual, the first thing to do is look at the data! We will subsample it here and plot just a few rows."
   ]
  },
  {
   "cell_type": "code",
   "execution_count": null,
   "metadata": {},
   "outputs": [],
   "source": [
    "try:\n",
    "    data = pd.read_csv(\"rats.csv\");\n",
    "except:\n",
    "    data = pd.read_csv(\"https://github.com/tbrx/intro-stan-python/raw/main/rats.csv\");\n",
    "print(\"Number of rows:\", len(data))\n",
    "data.head()"
   ]
  },
  {
   "cell_type": "code",
   "execution_count": null,
   "metadata": {},
   "outputs": [],
   "source": [
    "past_rats = data[['day8', 'day15', 'day22']]\n",
    "future_rats = data[['day29', 'day36']]\n",
    "\n",
    "# plot\n",
    "f = plt.plot(data[:10].T, 'o--', c='C1');\n",
    "p = plt.plot(past_rats[:10].T, 'o-', c='C0');\n",
    "plt.legend([p[0], f[0]], ['Observed data', 'Future data']);\n",
    "plt.ylabel(\"Weight\");\n",
    "plt.title(\"Ten Rats\");"
   ]
  },
  {
   "cell_type": "markdown",
   "metadata": {},
   "source": [
    "### Basic linear regression\n",
    "\n",
    "The following Stan model implements a basic linear regression model: it estimates two coefficients, $\\alpha$ and $\\beta$, where $\\alpha$ is the average weight of a rat at birth and $\\beta$ is the average amount it grows in a week.\n",
    "\n",
    "This model can be written as\n",
    "\n",
    "$$\\begin{align*}\n",
    "y_{nt} \\sim \\mathcal{N}(\\alpha + \\beta x_t, \\sigma_y^2)\n",
    "\\end{align*}$$\n",
    "\n",
    "where $\\sigma_y$ is observation noise, $x_t$ is the age of the rat in days at time $t$, and $y_{nt}$ is the weight of rat $n$ at time $t$.\n",
    "\n",
    "Take note of both `for` loops used in the `model` and `generated quantities` blocks."
   ]
  },
  {
   "cell_type": "code",
   "execution_count": null,
   "metadata": {},
   "outputs": [],
   "source": [
    "rats_model_code = \"\"\"\n",
    "data {\n",
    "    int N; // number of rats    \n",
    "    int T; // number of observed timesteps\n",
    "    int x[T]; // date of measurement\n",
    "    real y[N,T]; // matrix of weights by date\n",
    "\n",
    "    int T_test; // number of held-out timesteps\n",
    "    int x_test[T_test]; // dates of held-out timesteps\n",
    "}\n",
    "parameters {\n",
    "    real alpha;\n",
    "    real beta;\n",
    "    real<lower=0> sigma_y;\n",
    "}\n",
    "model {\n",
    "    sigma_y ~ normal(0, 100); // prior on scale\n",
    "    for (n in 1:N) {\n",
    "        for (t in 1:T) {\n",
    "            y[n,t] ~ normal(alpha + beta * x[t], sigma_y);\n",
    "        }\n",
    "    }\n",
    "}\n",
    "generated quantities {\n",
    "    real y_hat[T_test];  // predictions into the future (mean)\n",
    "    real y_pred[T_test]; // predictions into the future (sampled)\n",
    "    \n",
    "    for (t in 1:T_test) {\n",
    "        y_hat[t] = alpha + beta * x_test[t]; // predictive mean\n",
    "        y_pred[t] = normal_rng(y_hat[t], sigma_y); // sampled prediction\n",
    "    }\n",
    "}\n",
    "\"\"\"\n",
    "rats_model_basic = pystan.StanModel(model_code=rats_model_code)"
   ]
  },
  {
   "cell_type": "code",
   "execution_count": null,
   "metadata": {},
   "outputs": [],
   "source": [
    "rats_data = {'N': len(past_rats),\n",
    "             'T': 3,\n",
    "             'x': [8, 15, 22],\n",
    "             'y': past_rats,\n",
    "             'T_test': 2,\n",
    "             'x_test': [29, 36]};"
   ]
  },
  {
   "cell_type": "code",
   "execution_count": null,
   "metadata": {},
   "outputs": [],
   "source": [
    "fit = rats_model_basic.sampling(data=rats_data, chains=4, iter=2000);\n",
    "print(fit.stansummary(pars=['alpha', 'beta', 'sigma_y']));"
   ]
  },
  {
   "cell_type": "markdown",
   "metadata": {},
   "source": [
    "## Task: Model differences between rats\n",
    "\n",
    "The predictions look fairly good. However, these predictions are the same *for every rat*. It doesn't account for the individual variation in rats at all.\n",
    "\n",
    "Looking at the plot, we see that some rats are consistently heavier than others, or may grow at consistently faster or slower rates."
   ]
  },
  {
   "cell_type": "code",
   "execution_count": null,
   "metadata": {},
   "outputs": [],
   "source": [
    "f = plt.plot(data.T, 'o--', c='C1');\n",
    "p = plt.plot(past_rats.T, 'o-', c='C0');\n",
    "plt.boxplot(fit['y_pred'], positions=(3, 4));\n",
    "plt.xticks(np.arange(5), data.columns);"
   ]
  },
  {
   "cell_type": "markdown",
   "metadata": {},
   "source": [
    "* **Q** How can we modify the model to capture differences in rats?\n",
    "\n",
    "Think about how to modify the model, and write it here. In order to be compatible with the plotting scripts below, your model should have vectors of length $N$ for `alpha[N]` and `beta[N]`."
   ]
  },
  {
   "cell_type": "code",
   "execution_count": null,
   "metadata": {},
   "outputs": [],
   "source": [
    "rats_model_code = \"\"\"\n",
    "data {\n",
    "    int N; // number of rats    \n",
    "    int T; // number of observed timesteps\n",
    "    real x[T]; // date of measurement\n",
    "    real y[N,T]; // matrix of weights by date\n",
    "    \n",
    "    int T_test; // number of held-out timesteps\n",
    "    real x_test[T_test]; // dates of held-out timesteps\n",
    "}\n",
    "parameters {\n",
    "    real alpha[N];\n",
    "    real beta[N];\n",
    "    real<lower=0> sigma_y;\n",
    "    \n",
    "    // \n",
    "    //  YOUR CODE HERE\n",
    "    //\n",
    "}\n",
    "model {\n",
    "    // \n",
    "    //  YOUR CODE HERE\n",
    "    //\n",
    "}\n",
    "generated quantities {\n",
    "    real y_hat[N,T_test]; \n",
    "    real y_pred[N,T_test];\n",
    "    \n",
    "    for (n in 1:N) {\n",
    "        for (t in 1:T_test) {\n",
    "            y_hat[n,t] = alpha[n] + beta[n] * x_test[t]; // predictive mean\n",
    "            y_pred[n,t] = normal_rng(y_hat[n,t], sigma_y); // sampled prediction\n",
    "        }\n",
    "    }\n",
    "}\n",
    "\"\"\"\n",
    "rats_model = pystan.StanModel(model_code=rats_model_code)"
   ]
  },
  {
   "cell_type": "code",
   "execution_count": null,
   "metadata": {
    "scrolled": false
   },
   "outputs": [],
   "source": [
    "fit = rats_model.sampling(data=rats_data, chains=4, iter=2000);\n",
    "print(fit)"
   ]
  },
  {
   "cell_type": "markdown",
   "metadata": {},
   "source": [
    "### Plot predictions for each rat"
   ]
  },
  {
   "cell_type": "code",
   "execution_count": null,
   "metadata": {},
   "outputs": [],
   "source": [
    "plt.figure(figsize=(14, 14));\n",
    "for i in range(len(data)):\n",
    "    plt.subplot(6, 5, i+1);\n",
    "    plt.plot(data.loc[i], 'o--', c='C1');\n",
    "    plt.plot(past_rats.loc[i], 'o-', c='C0');\n",
    "    plt.boxplot(fit['y_pred'][:,i], positions=(3, 4));\n",
    "    plt.xticks(np.arange(5), data.columns);\n",
    "    plt.title('Rat %d: $\\hat \\\\alpha = %0.1f, \\hat \\\\beta = %0.1f$' % (i+1, fit['alpha'][:,i].mean(), fit['beta'][:,i].mean()))\n",
    "    plt.ylim(110, 410);\n",
    "\n",
    "plt.tight_layout();"
   ]
  },
  {
   "cell_type": "markdown",
   "metadata": {},
   "source": [
    "## Task: Predicting weights for new rats\n",
    "\n",
    "In the previous model, we supposed that for all 30 rats we only observed their weights at days 8, 15, and 22.\n",
    "\n",
    "Sometimes we might have settings where we have collected complete data for a handful of rats, and are interested in making predictions on new rats.\n",
    "\n",
    "Here, let's suppose a first experiment measured rats 1-25 for 36 days, and now in a second experiment we are measuring rats 26-30, currently just finishing day 22.\n",
    "\n",
    "* **Q** What can we learn from having already collected data on 25 rats? Do we expect predictions for rats 26-30 to be the same as in the previous model?\n"
   ]
  },
  {
   "cell_type": "code",
   "execution_count": null,
   "metadata": {},
   "outputs": [],
   "source": [
    "new_rats_code = \"\"\"\n",
    "data {\n",
    "    int N_obs; // number of fully observed rats\n",
    "    int N_new; // number of new rats\n",
    "    \n",
    "    int T_obs; // number of timestamps for observed rats\n",
    "    int T_new; // number of timestamps for new rats\n",
    "    int T_test; // number of timestamps to predict for new rats\n",
    "    \n",
    "    int x_obs[T_obs]; // date of measurement\n",
    "    real y_obs[N_obs,T_obs]; // matrix of weights by date\n",
    "\n",
    "    int x_new[T_new]; // date of measurement\n",
    "    real y_new[N_new,T_new]; // matrix of weights by date\n",
    "    \n",
    "    int x_test[T_test]; // dates of timestamps to predict\n",
    "}\n",
    "parameters {\n",
    "    real alpha[N_obs + N_new]; // Note: place the observed entries first\n",
    "    real beta[N_obs + N_new];\n",
    "    real<lower=0> sigma_y;\n",
    "    \n",
    "    // \n",
    "    //  YOUR CODE HERE\n",
    "    //\n",
    "}\n",
    "model {\n",
    "    // \n",
    "    //  YOUR CODE HERE\n",
    "    //\n",
    "}\n",
    "generated quantities {\n",
    "    // just compute predictions for the new rats\n",
    "    real y_hat[N_new,T_test]; \n",
    "    real y_pred[N_new,T_test];\n",
    "    \n",
    "    for (n in 1:N_new) {\n",
    "        for (t in 1:(T_test)) {\n",
    "            y_hat[n,t] = alpha[N_obs+n] + beta[N_obs+n] * x_test[t]; // predictive mean\n",
    "            y_pred[n,t] = normal_rng(y_hat[n,t], sigma_y); // sampled prediction\n",
    "        }\n",
    "    }\n",
    "}\n",
    "\"\"\"\n",
    "new_rats_model = pystan.StanModel(model_code=new_rats_code)"
   ]
  },
  {
   "cell_type": "code",
   "execution_count": null,
   "metadata": {},
   "outputs": [],
   "source": [
    "initial_rats = data[:25]\n",
    "new_past_rats = data[25:][['day8', 'day15', 'day22']]\n",
    "\n",
    "split_rats_data = {'N_obs': len(initial_rats),\n",
    "                   'N_new': len(new_past_rats),\n",
    "                   'T_obs': 5,\n",
    "                   'T_new': 3,\n",
    "                   'T_test': 2,\n",
    "                   'x_obs': [8, 15, 22, 29, 36],\n",
    "                   'x_new': [8, 15, 22],\n",
    "                   'x_test': [29, 36],\n",
    "                   'y_obs': initial_rats,\n",
    "                   'y_new': new_past_rats };\n"
   ]
  },
  {
   "cell_type": "code",
   "execution_count": null,
   "metadata": {},
   "outputs": [],
   "source": [
    "pred_fit = new_rats_model.sampling(data=split_rats_data, chains=4, iter=2000);\n",
    "print(pred_fit.stansummary())"
   ]
  },
  {
   "cell_type": "markdown",
   "metadata": {},
   "source": [
    "### Plot predictions on the five new rats"
   ]
  },
  {
   "cell_type": "code",
   "execution_count": null,
   "metadata": {},
   "outputs": [],
   "source": [
    "plt.figure(figsize=(14, 4));\n",
    "for i in range(5):\n",
    "    plt.subplot(1, 5, i+1);\n",
    "    plt.plot(data.loc[25+i], 'o--', c='C1');\n",
    "    plt.plot(new_past_rats.loc[25+i], 'o-', c='C0');\n",
    "    plt.boxplot(pred_fit['y_pred'][:,i], positions=(3, 4));\n",
    "    plt.xticks(np.arange(5), data.columns);\n",
    "    plt.title('Rat %d: $\\hat \\\\alpha = %0.1f, \\hat \\\\beta = %0.1f$' % (i+26, pred_fit['alpha'][:,25+i].mean(), pred_fit['beta'][:,25+i].mean()))\n",
    "    plt.ylim(110, 410);\n",
    "\n",
    "plt.tight_layout();"
   ]
  },
  {
   "cell_type": "code",
   "execution_count": null,
   "metadata": {},
   "outputs": [],
   "source": [
    "plt.figure(figsize=(11,5));\n",
    "m0 = plt.violinplot(data[25:][['day29', 'day36']].to_numpy().T[:1,:], positions=np.arange(25,30), widths=1.0);\n",
    "m1 = plt.violinplot(pred_fit['y_pred'][:,:,0], positions=np.arange(25,30)-0.15, widths=0.3);\n",
    "m2 = plt.violinplot(fit['y_pred'][:,25:,0], positions=np.arange(25,30)+0.15, widths=0.3);\n",
    "plt.title(\"Prediction on Day 29\")\n",
    "plt.xlabel(\"Test Rat\")\n",
    "plt.legend([m0['bodies'][0], m1['bodies'][0], m2['bodies'][0]], [\"Actual data\", \"Updated model\", \"Original model\"]);\n",
    "plt.ylabel(\"Weight\");"
   ]
  },
  {
   "cell_type": "code",
   "execution_count": null,
   "metadata": {},
   "outputs": [],
   "source": [
    "plt.figure(figsize=(11,5));\n",
    "m0 = plt.violinplot(data[25:][['day29', 'day36']].to_numpy().T[1:,:], positions=np.arange(25,30), widths=1.0);\n",
    "m1 = plt.violinplot(pred_fit['y_pred'][:,:,1], positions=np.arange(25,30)-0.15, widths=0.3);\n",
    "m2 = plt.violinplot(fit['y_pred'][:,25:,1], positions=np.arange(25,30)+0.15, widths=0.3);\n",
    "plt.title(\"Prediction on Day 36\")\n",
    "plt.xlabel(\"Test Rat\")\n",
    "plt.legend([m0['bodies'][0], m1['bodies'][0], m2['bodies'][0]], [\"Actual data\", \"Updated model\", \"Original model\"]);\n",
    "plt.ylabel(\"Weight\");"
   ]
  },
  {
   "cell_type": "markdown",
   "metadata": {},
   "source": [
    "* **Q** How do the predictions change? Do these results make sense? \n",
    "* **Q** Is this a better fit on these last five rats than the original model, which never saw any measurements at days 29 or 36? Why or why not?\n",
    "* **Q** What does this imply, if anything, about our choice of linear model.\n",
    "\n",
    "## Task: Improving the predictive model\n",
    "\n",
    "Plot the alphas and betas for both these models, for the last five rats. What can we learn from these?\n",
    "\n",
    "One possibility is that the assumption of our model, that rat weight increases linearly over time, is unrealistic. An advantage of probabilistic programming is it makes it easy to iterate on modeling choices. Try replacing the predictive mean with another function (possibly nonlinear) and see if you can make an improvement. \n"
   ]
  },
  {
   "cell_type": "code",
   "execution_count": null,
   "metadata": {},
   "outputs": [],
   "source": []
  }
 ],
 "metadata": {
  "kernelspec": {
   "display_name": "Python 3",
   "language": "python",
   "name": "python3"
  },
  "language_info": {
   "codemirror_mode": {
    "name": "ipython",
    "version": 3
   },
   "file_extension": ".py",
   "mimetype": "text/x-python",
   "name": "python",
   "nbconvert_exporter": "python",
   "pygments_lexer": "ipython3",
   "version": "3.7.9"
  }
 },
 "nbformat": 4,
 "nbformat_minor": 4
}
